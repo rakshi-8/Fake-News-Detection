{
  "nbformat": 4,
  "nbformat_minor": 0,
  "metadata": {
    "colab": {
      "provenance": []
    },
    "kernelspec": {
      "name": "python3",
      "display_name": "Python 3"
    },
    "language_info": {
      "name": "python"
    }
  },
  "cells": [
    {
      "cell_type": "code",
      "source": [
        "from google.colab import files\n",
        "\n",
        "# Upload files manually from your system\n",
        "uploaded = files.upload()\n"
      ],
      "metadata": {
        "colab": {
          "base_uri": "https://localhost:8080/",
          "height": 107
        },
        "id": "ksz3VHef6VVM",
        "outputId": "452ce66d-d305-42f9-c4c9-bfbe3f0ba907"
      },
      "execution_count": 3,
      "outputs": [
        {
          "output_type": "display_data",
          "data": {
            "text/plain": [
              "<IPython.core.display.HTML object>"
            ],
            "text/html": [
              "\n",
              "     <input type=\"file\" id=\"files-6d1f7529-35fa-466a-b432-86070ed3140b\" name=\"files[]\" multiple disabled\n",
              "        style=\"border:none\" />\n",
              "     <output id=\"result-6d1f7529-35fa-466a-b432-86070ed3140b\">\n",
              "      Upload widget is only available when the cell has been executed in the\n",
              "      current browser session. Please rerun this cell to enable.\n",
              "      </output>\n",
              "      <script>// Copyright 2017 Google LLC\n",
              "//\n",
              "// Licensed under the Apache License, Version 2.0 (the \"License\");\n",
              "// you may not use this file except in compliance with the License.\n",
              "// You may obtain a copy of the License at\n",
              "//\n",
              "//      http://www.apache.org/licenses/LICENSE-2.0\n",
              "//\n",
              "// Unless required by applicable law or agreed to in writing, software\n",
              "// distributed under the License is distributed on an \"AS IS\" BASIS,\n",
              "// WITHOUT WARRANTIES OR CONDITIONS OF ANY KIND, either express or implied.\n",
              "// See the License for the specific language governing permissions and\n",
              "// limitations under the License.\n",
              "\n",
              "/**\n",
              " * @fileoverview Helpers for google.colab Python module.\n",
              " */\n",
              "(function(scope) {\n",
              "function span(text, styleAttributes = {}) {\n",
              "  const element = document.createElement('span');\n",
              "  element.textContent = text;\n",
              "  for (const key of Object.keys(styleAttributes)) {\n",
              "    element.style[key] = styleAttributes[key];\n",
              "  }\n",
              "  return element;\n",
              "}\n",
              "\n",
              "// Max number of bytes which will be uploaded at a time.\n",
              "const MAX_PAYLOAD_SIZE = 100 * 1024;\n",
              "\n",
              "function _uploadFiles(inputId, outputId) {\n",
              "  const steps = uploadFilesStep(inputId, outputId);\n",
              "  const outputElement = document.getElementById(outputId);\n",
              "  // Cache steps on the outputElement to make it available for the next call\n",
              "  // to uploadFilesContinue from Python.\n",
              "  outputElement.steps = steps;\n",
              "\n",
              "  return _uploadFilesContinue(outputId);\n",
              "}\n",
              "\n",
              "// This is roughly an async generator (not supported in the browser yet),\n",
              "// where there are multiple asynchronous steps and the Python side is going\n",
              "// to poll for completion of each step.\n",
              "// This uses a Promise to block the python side on completion of each step,\n",
              "// then passes the result of the previous step as the input to the next step.\n",
              "function _uploadFilesContinue(outputId) {\n",
              "  const outputElement = document.getElementById(outputId);\n",
              "  const steps = outputElement.steps;\n",
              "\n",
              "  const next = steps.next(outputElement.lastPromiseValue);\n",
              "  return Promise.resolve(next.value.promise).then((value) => {\n",
              "    // Cache the last promise value to make it available to the next\n",
              "    // step of the generator.\n",
              "    outputElement.lastPromiseValue = value;\n",
              "    return next.value.response;\n",
              "  });\n",
              "}\n",
              "\n",
              "/**\n",
              " * Generator function which is called between each async step of the upload\n",
              " * process.\n",
              " * @param {string} inputId Element ID of the input file picker element.\n",
              " * @param {string} outputId Element ID of the output display.\n",
              " * @return {!Iterable<!Object>} Iterable of next steps.\n",
              " */\n",
              "function* uploadFilesStep(inputId, outputId) {\n",
              "  const inputElement = document.getElementById(inputId);\n",
              "  inputElement.disabled = false;\n",
              "\n",
              "  const outputElement = document.getElementById(outputId);\n",
              "  outputElement.innerHTML = '';\n",
              "\n",
              "  const pickedPromise = new Promise((resolve) => {\n",
              "    inputElement.addEventListener('change', (e) => {\n",
              "      resolve(e.target.files);\n",
              "    });\n",
              "  });\n",
              "\n",
              "  const cancel = document.createElement('button');\n",
              "  inputElement.parentElement.appendChild(cancel);\n",
              "  cancel.textContent = 'Cancel upload';\n",
              "  const cancelPromise = new Promise((resolve) => {\n",
              "    cancel.onclick = () => {\n",
              "      resolve(null);\n",
              "    };\n",
              "  });\n",
              "\n",
              "  // Wait for the user to pick the files.\n",
              "  const files = yield {\n",
              "    promise: Promise.race([pickedPromise, cancelPromise]),\n",
              "    response: {\n",
              "      action: 'starting',\n",
              "    }\n",
              "  };\n",
              "\n",
              "  cancel.remove();\n",
              "\n",
              "  // Disable the input element since further picks are not allowed.\n",
              "  inputElement.disabled = true;\n",
              "\n",
              "  if (!files) {\n",
              "    return {\n",
              "      response: {\n",
              "        action: 'complete',\n",
              "      }\n",
              "    };\n",
              "  }\n",
              "\n",
              "  for (const file of files) {\n",
              "    const li = document.createElement('li');\n",
              "    li.append(span(file.name, {fontWeight: 'bold'}));\n",
              "    li.append(span(\n",
              "        `(${file.type || 'n/a'}) - ${file.size} bytes, ` +\n",
              "        `last modified: ${\n",
              "            file.lastModifiedDate ? file.lastModifiedDate.toLocaleDateString() :\n",
              "                                    'n/a'} - `));\n",
              "    const percent = span('0% done');\n",
              "    li.appendChild(percent);\n",
              "\n",
              "    outputElement.appendChild(li);\n",
              "\n",
              "    const fileDataPromise = new Promise((resolve) => {\n",
              "      const reader = new FileReader();\n",
              "      reader.onload = (e) => {\n",
              "        resolve(e.target.result);\n",
              "      };\n",
              "      reader.readAsArrayBuffer(file);\n",
              "    });\n",
              "    // Wait for the data to be ready.\n",
              "    let fileData = yield {\n",
              "      promise: fileDataPromise,\n",
              "      response: {\n",
              "        action: 'continue',\n",
              "      }\n",
              "    };\n",
              "\n",
              "    // Use a chunked sending to avoid message size limits. See b/62115660.\n",
              "    let position = 0;\n",
              "    do {\n",
              "      const length = Math.min(fileData.byteLength - position, MAX_PAYLOAD_SIZE);\n",
              "      const chunk = new Uint8Array(fileData, position, length);\n",
              "      position += length;\n",
              "\n",
              "      const base64 = btoa(String.fromCharCode.apply(null, chunk));\n",
              "      yield {\n",
              "        response: {\n",
              "          action: 'append',\n",
              "          file: file.name,\n",
              "          data: base64,\n",
              "        },\n",
              "      };\n",
              "\n",
              "      let percentDone = fileData.byteLength === 0 ?\n",
              "          100 :\n",
              "          Math.round((position / fileData.byteLength) * 100);\n",
              "      percent.textContent = `${percentDone}% done`;\n",
              "\n",
              "    } while (position < fileData.byteLength);\n",
              "  }\n",
              "\n",
              "  // All done.\n",
              "  yield {\n",
              "    response: {\n",
              "      action: 'complete',\n",
              "    }\n",
              "  };\n",
              "}\n",
              "\n",
              "scope.google = scope.google || {};\n",
              "scope.google.colab = scope.google.colab || {};\n",
              "scope.google.colab._files = {\n",
              "  _uploadFiles,\n",
              "  _uploadFilesContinue,\n",
              "};\n",
              "})(self);\n",
              "</script> "
            ]
          },
          "metadata": {}
        },
        {
          "output_type": "stream",
          "name": "stdout",
          "text": [
            "Saving Fake.csv to Fake.csv\n",
            "Saving True.csv to True.csv\n"
          ]
        }
      ]
    },
    {
      "cell_type": "code",
      "source": [
        "import pandas as pd\n",
        "\n",
        "fake = pd.read_csv('Fake.csv')\n",
        "true = pd.read_csv('True.csv')\n",
        "\n",
        "print(\"🔴 FAKE NEWS EXAMPLE:\")\n",
        "print(fake.head())\n",
        "\n",
        "print(\"\\n🟢 TRUE NEWS EXAMPLE:\")\n",
        "print(true.head())\n"
      ],
      "metadata": {
        "colab": {
          "base_uri": "https://localhost:8080/"
        },
        "id": "TzU02hVu85E-",
        "outputId": "5c0e2eb7-3e92-4bb4-cd84-2518ef955d79"
      },
      "execution_count": 4,
      "outputs": [
        {
          "output_type": "stream",
          "name": "stdout",
          "text": [
            "🔴 FAKE NEWS EXAMPLE:\n",
            "                                               title  \\\n",
            "0   Donald Trump Sends Out Embarrassing New Year’...   \n",
            "1   Drunk Bragging Trump Staffer Started Russian ...   \n",
            "2   Sheriff David Clarke Becomes An Internet Joke...   \n",
            "3   Trump Is So Obsessed He Even Has Obama’s Name...   \n",
            "4   Pope Francis Just Called Out Donald Trump Dur...   \n",
            "\n",
            "                                                text subject  \\\n",
            "0  Donald Trump just couldn t wish all Americans ...    News   \n",
            "1  House Intelligence Committee Chairman Devin Nu...    News   \n",
            "2  On Friday, it was revealed that former Milwauk...    News   \n",
            "3  On Christmas day, Donald Trump announced that ...    News   \n",
            "4  Pope Francis used his annual Christmas Day mes...    News   \n",
            "\n",
            "                date  \n",
            "0  December 31, 2017  \n",
            "1  December 31, 2017  \n",
            "2  December 30, 2017  \n",
            "3  December 29, 2017  \n",
            "4  December 25, 2017  \n",
            "\n",
            "🟢 TRUE NEWS EXAMPLE:\n",
            "                                               title  \\\n",
            "0  As U.S. budget fight looms, Republicans flip t...   \n",
            "1  U.S. military to accept transgender recruits o...   \n",
            "2  Senior U.S. Republican senator: 'Let Mr. Muell...   \n",
            "3  FBI Russia probe helped by Australian diplomat...   \n",
            "4  Trump wants Postal Service to charge 'much mor...   \n",
            "\n",
            "                                                text       subject  \\\n",
            "0  WASHINGTON (Reuters) - The head of a conservat...  politicsNews   \n",
            "1  WASHINGTON (Reuters) - Transgender people will...  politicsNews   \n",
            "2  WASHINGTON (Reuters) - The special counsel inv...  politicsNews   \n",
            "3  WASHINGTON (Reuters) - Trump campaign adviser ...  politicsNews   \n",
            "4  SEATTLE/WASHINGTON (Reuters) - President Donal...  politicsNews   \n",
            "\n",
            "                 date  \n",
            "0  December 31, 2017   \n",
            "1  December 29, 2017   \n",
            "2  December 31, 2017   \n",
            "3  December 30, 2017   \n",
            "4  December 29, 2017   \n"
          ]
        }
      ]
    },
    {
      "cell_type": "code",
      "source": [
        "# Step 1: Add a new column 'label' to each dataframe\n",
        "fake['label'] = 0  # 0 = fake news\n",
        "true['label'] = 1  # 1 = real news\n",
        "\n",
        "# Step 2: Combine both dataframes\n",
        "data = pd.concat([fake, true])\n",
        "\n",
        "# Step 3: Shuffle the data (important for training)\n",
        "data = data.sample(frac=1).reset_index(drop=True)\n",
        "\n",
        "# Step 4: View the combined data\n",
        "print(\"📰 Combined Data:\")\n",
        "print(data.head())\n",
        "\n",
        "# Optional: Check how many real and fake samples we have\n",
        "print(\"\\n🧮 Label Counts:\")\n",
        "print(data['label'].value_counts())\n"
      ],
      "metadata": {
        "colab": {
          "base_uri": "https://localhost:8080/"
        },
        "id": "c-EI3-kL9M1O",
        "outputId": "11071e17-0175-45aa-a883-354ee6571c49"
      },
      "execution_count": 5,
      "outputs": [
        {
          "output_type": "stream",
          "name": "stdout",
          "text": [
            "📰 Combined Data:\n",
            "                                               title  \\\n",
            "0   Watch What Happens When This Guy Tries To Pic...   \n",
            "1  Trump, Abe didn't discuss bilateral FTA: Japan...   \n",
            "2  Obama spars with Cuba's Castro over human righ...   \n",
            "3   Trump Announces That Surrogates Won’t Appear ...   \n",
            "4  McCain warns Trump over staffing Pentagon with...   \n",
            "\n",
            "                                                text       subject  \\\n",
            "0  Usually, men have all the advantages   they ma...          News   \n",
            "1  TOKYO (Reuters) - U.S. President Donald Trump ...  politicsNews   \n",
            "2  HAVANA (Reuters) - U.S. President Barack Obama...  politicsNews   \n",
            "3  CNN viewers will no longer be entertained by t...          News   \n",
            "4  WASHINGTON (Reuters) - Senator John McCain war...  politicsNews   \n",
            "\n",
            "                 date  label  \n",
            "0      April 11, 2016      0  \n",
            "1   November 6, 2017       1  \n",
            "2     March 21, 2016       1  \n",
            "3    February 1, 2017      0  \n",
            "4  November 16, 2017       1  \n",
            "\n",
            "🧮 Label Counts:\n",
            "label\n",
            "0    23481\n",
            "1    21417\n",
            "Name: count, dtype: int64\n"
          ]
        }
      ]
    },
    {
      "cell_type": "code",
      "source": [
        "import re\n",
        "import nltk\n",
        "nltk.download('stopwords')\n",
        "from nltk.corpus import stopwords\n",
        "\n",
        "# Set of common stopwords\n",
        "stop_words = set(stopwords.words('english'))\n",
        "\n",
        "# Clean text function\n",
        "def clean_text(text):\n",
        "    text = text.lower()  # lowercase\n",
        "    text = re.sub(r'[^\\w\\s]', '', text)  # remove punctuation\n",
        "    text = ' '.join(word for word in text.split() if word not in stop_words)  # remove stopwords\n",
        "    return text\n",
        "\n",
        "# Apply cleaning to the 'text' column\n",
        "data['clean_text'] = data['text'].apply(clean_text)\n",
        "\n",
        "# View sample cleaned text\n",
        "print(data[['text', 'clean_text']].head())\n"
      ],
      "metadata": {
        "colab": {
          "base_uri": "https://localhost:8080/"
        },
        "id": "W0xKL13m-zdX",
        "outputId": "456bb65d-08ea-4b44-baa4-832dd2790357"
      },
      "execution_count": 6,
      "outputs": [
        {
          "output_type": "stream",
          "name": "stderr",
          "text": [
            "[nltk_data] Downloading package stopwords to /root/nltk_data...\n",
            "[nltk_data]   Unzipping corpora/stopwords.zip.\n"
          ]
        },
        {
          "output_type": "stream",
          "name": "stdout",
          "text": [
            "                                                text  \\\n",
            "0  Usually, men have all the advantages   they ma...   \n",
            "1  TOKYO (Reuters) - U.S. President Donald Trump ...   \n",
            "2  HAVANA (Reuters) - U.S. President Barack Obama...   \n",
            "3  CNN viewers will no longer be entertained by t...   \n",
            "4  WASHINGTON (Reuters) - Senator John McCain war...   \n",
            "\n",
            "                                          clean_text  \n",
            "0  usually men advantages make women automaticall...  \n",
            "1  tokyo reuters us president donald trump japane...  \n",
            "2  havana reuters us president barack obama pushe...  \n",
            "3  cnn viewers longer entertained car crashcalibe...  \n",
            "4  washington reuters senator john mccain warned ...  \n"
          ]
        }
      ]
    },
    {
      "cell_type": "code",
      "source": [
        "from sklearn.feature_extraction.text import TfidfVectorizer\n",
        "\n",
        "# Create TF-IDF vectorizer\n",
        "vectorizer = TfidfVectorizer(max_df=0.7)\n",
        "\n",
        "# Fit and transform the clean_text column\n",
        "X = vectorizer.fit_transform(data['clean_text'])\n",
        "\n",
        "# Target variable\n",
        "y = data['label']\n"
      ],
      "metadata": {
        "id": "RsdgV53cBmcp"
      },
      "execution_count": 7,
      "outputs": []
    },
    {
      "cell_type": "code",
      "source": [
        "from sklearn.model_selection import train_test_split\n",
        "from sklearn.linear_model import PassiveAggressiveClassifier\n",
        "from sklearn.metrics import accuracy_score, confusion_matrix\n",
        "\n",
        "# Step 1: Split data (80% train, 20% test)\n",
        "X_train, X_test, y_train, y_test = train_test_split(X, y, test_size=0.2, random_state=42)\n",
        "\n",
        "# Step 2: Train model\n",
        "model = PassiveAggressiveClassifier(max_iter=1000)\n",
        "model.fit(X_train, y_train)\n",
        "\n",
        "# Step 3: Predict on test data\n",
        "y_pred = model.predict(X_test)\n",
        "\n",
        "# Step 4: Accuracy\n",
        "accuracy = accuracy_score(y_test, y_pred)\n",
        "print(f\"✅ Model Accuracy: {accuracy * 100:.2f}%\")\n",
        "\n",
        "# Step 5: Confusion Matrix\n",
        "print(\"\\n📊 Confusion Matrix:\")\n",
        "print(confusion_matrix(y_test, y_pred))\n"
      ],
      "metadata": {
        "colab": {
          "base_uri": "https://localhost:8080/"
        },
        "id": "lMjh0LGuB2B5",
        "outputId": "7fc5e8c5-5276-4258-e31d-ed5a8948c65e"
      },
      "execution_count": 8,
      "outputs": [
        {
          "output_type": "stream",
          "name": "stdout",
          "text": [
            "✅ Model Accuracy: 99.58%\n",
            "\n",
            "📊 Confusion Matrix:\n",
            "[[4715   21]\n",
            " [  17 4227]]\n"
          ]
        }
      ]
    },
    {
      "cell_type": "code",
      "source": [
        "def test_news(news_text):\n",
        "    # Clean the input text using same method\n",
        "    cleaned = clean_text(news_text)\n",
        "\n",
        "    # Convert to TF-IDF vector\n",
        "    vector = vectorizer.transform([cleaned])\n",
        "\n",
        "    # Predict\n",
        "    prediction = model.predict(vector)\n",
        "\n",
        "    # Show result\n",
        "    if prediction[0] == 0:\n",
        "        print(\"🔴 This news is likely: FAKE\")\n",
        "    else:\n",
        "        print(\"🟢 This news is likely: REAL\")\n",
        "\n",
        "# 🔍 Try with a sample news text\n",
        "test_news(\"Prime Minister announces new scheme to help farmers in rural areas.\")\n"
      ],
      "metadata": {
        "colab": {
          "base_uri": "https://localhost:8080/"
        },
        "id": "fjdHzCRcB7dK",
        "outputId": "e3af5167-08fe-46bd-c3d0-79e9c4568993"
      },
      "execution_count": 9,
      "outputs": [
        {
          "output_type": "stream",
          "name": "stdout",
          "text": [
            "🟢 This news is likely: REAL\n"
          ]
        }
      ]
    },
    {
      "cell_type": "code",
      "source": [
        "# Clean text function (same as earlier, repeat it here)\n",
        "def clean_text(text):\n",
        "    text = text.lower()\n",
        "    text = re.sub(r'[^\\w\\s]', '', text)\n",
        "    text = ' '.join(word for word in text.split() if word not in stop_words)\n",
        "    return text\n",
        "\n",
        "# Prediction function\n",
        "def predict_news(news):\n",
        "    # Clean the input text\n",
        "    cleaned = clean_text(news)\n",
        "\n",
        "    # Transform to TF-IDF\n",
        "    vector = vectorizer.transform([cleaned])\n",
        "\n",
        "    # Predict using trained model\n",
        "    prediction = model.predict(vector)\n",
        "\n",
        "    # Display result\n",
        "    if prediction[0] == 0:\n",
        "        print(\"🔴 This news is most likely: FAKE\")\n",
        "    else:\n",
        "        print(\"🟢 This news is most likely: REAL\")\n"
      ],
      "metadata": {
        "id": "7uTBm-mbDkLD"
      },
      "execution_count": 12,
      "outputs": []
    },
    {
      "cell_type": "code",
      "source": [
        "predict_news(\"Aliens have landed in Chennai and are demanding biryani!\")"
      ],
      "metadata": {
        "colab": {
          "base_uri": "https://localhost:8080/"
        },
        "id": "YFJoRfcdDrSk",
        "outputId": "aa632bb0-5377-47c1-8eb6-302433334237"
      },
      "execution_count": 13,
      "outputs": [
        {
          "output_type": "stream",
          "name": "stdout",
          "text": [
            "🔴 This news is most likely: FAKE\n"
          ]
        }
      ]
    },
    {
      "cell_type": "code",
      "source": [
        "predict_news(\"Government to ban all vegetables from next Monday.\")\n",
        "predict_news(\"Scientists confirm that chocolate cures COVID-19 completely.\")\n",
        "predict_news(\"Aliens seen dancing on Mount Everest in viral video.\")\n",
        "predict_news(\"Drinking 20 cups of coffee per day makes you immortal, study says.\")\n"
      ],
      "metadata": {
        "colab": {
          "base_uri": "https://localhost:8080/"
        },
        "id": "2qQvOS3FEArM",
        "outputId": "ff8ad6bc-1258-422d-a871-a9bd77e50228"
      },
      "execution_count": 14,
      "outputs": [
        {
          "output_type": "stream",
          "name": "stdout",
          "text": [
            "🟢 This news is most likely: REAL\n",
            "🔴 This news is most likely: FAKE\n",
            "🔴 This news is most likely: FAKE\n",
            "🔴 This news is most likely: FAKE\n"
          ]
        }
      ]
    }
  ]
}